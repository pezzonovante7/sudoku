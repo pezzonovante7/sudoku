{
  "nbformat": 4,
  "nbformat_minor": 0,
  "metadata": {
    "colab": {
      "name": "opencv-project.ipynb",
      "version": "0.3.2",
      "provenance": []
    },
    "kernelspec": {
      "name": "python3",
      "display_name": "Python 3"
    }
  },
  "cells": [
    {
      "cell_type": "code",
      "metadata": {
        "id": "EG_aYi0l0_4t",
        "colab_type": "code",
        "colab": {}
      },
      "source": [
        "import cv2\n",
        "import operator\n",
        "import numpy as np\n",
        "import tensorflow as tf \n",
        "import matplotlib.pyplot as plt\n",
        "from google.colab.patches import cv2_imshow"
      ],
      "execution_count": 0,
      "outputs": []
    },
    {
      "cell_type": "code",
      "metadata": {
        "id": "Xqk1f3V75Rsb",
        "colab_type": "code",
        "colab": {}
      },
      "source": [
        "def pre_process_image(img, skip_dilate=False):\n",
        "  proc = cv2.GaussianBlur(img.copy(), (9, 9), 0)\n",
        "  proc = cv2.adaptiveThreshold(proc, 255, cv2.ADAPTIVE_THRESH_GAUSSIAN_C, cv2.THRESH_BINARY, 11, 2)\n",
        "  proc = cv2.bitwise_not(proc, proc)\n",
        "  return proc\n",
        " "
      ],
      "execution_count": 0,
      "outputs": []
    },
    {
      "cell_type": "code",
      "metadata": {
        "id": "O64tirgGXZGR",
        "colab_type": "code",
        "colab": {}
      },
      "source": [
        "def find_corners(img):\n",
        "  _,contours,h =  cv2.findContours(img.copy(),cv2.RETR_EXTERNAL,cv2.CHAIN_APPROX_SIMPLE)\n",
        "  contours = sorted(contours,key = cv2.contourArea,reverse= True)\n",
        "  polygon = contours[0]\n",
        "  bottom_right, _ = max(enumerate([pt[0][0] + pt[0][1] for pt in polygon]), key=operator.itemgetter(1))\n",
        "  top_left, _ = min(enumerate([pt[0][0] + pt[0][1] for pt in polygon]), key=operator.itemgetter(1))\n",
        "  bottom_left, _ = min(enumerate([pt[0][0] - pt[0][1] for pt in polygon]), key=operator.itemgetter(1))\n",
        "  top_right, _ = max(enumerate([pt[0][0] - pt[0][1] for pt in polygon]), key=operator.itemgetter(1))\n",
        "  return [polygon[top_left][0],polygon[top_right][0],polygon[bottom_right][0],polygon[bottom_left][0]]"
      ],
      "execution_count": 0,
      "outputs": []
    },
    {
      "cell_type": "code",
      "metadata": {
        "id": "WKM2qcsPbqb4",
        "colab_type": "code",
        "colab": {}
      },
      "source": [
        "def display_points(in_img, points, radius=5, colour=(0, 0, 255)):\n",
        "\t\"\"\"Draws circular points on an image.\"\"\"\n",
        "\timg = in_img.copy()\n",
        "\n",
        "\t# Dynamically change to a colour image if necessary\n",
        "\tif len(colour) == 3:\n",
        "\t\tif len(img.shape) == 2:\n",
        "\t\t\timg = cv2.cvtColor(img, cv2.COLOR_GRAY2BGR)\n",
        "\t\telif img.shape[2] == 1:\n",
        "\t\t\timg = cv2.cvtColor(img, cv2.COLOR_GRAY2BGR)\n",
        "\n",
        "\tfor point in points:\n",
        "\t\timg = cv2.circle(img, tuple(int(x) for x in point), radius, colour, -1)\n",
        "\tcv2_imshow(img)\n",
        "\treturn img"
      ],
      "execution_count": 0,
      "outputs": []
    },
    {
      "cell_type": "code",
      "metadata": {
        "id": "z9ae1YtWb1gq",
        "colab_type": "code",
        "colab": {}
      },
      "source": [
        "def distance_between(p1,p2):\n",
        "  a= p2[0]-p1[0]\n",
        "  b= p2[1]-p1[1]\n",
        "  return np.sqrt((a*a) + (b*b))"
      ],
      "execution_count": 0,
      "outputs": []
    },
    {
      "cell_type": "code",
      "metadata": {
        "id": "MyNA1arnc_rY",
        "colab_type": "code",
        "colab": {}
      },
      "source": [
        "def crop_and_warp(img,crop_rect):\n",
        "  top_left, top_right, bottom_right, bottom_left = crop_rect[0], crop_rect[1], crop_rect[2], crop_rect[3]\n",
        "  src = np.array([top_left, top_right, bottom_right, bottom_left], dtype='float32')\n",
        "  side = max([\n",
        "\t\tdistance_between(bottom_right, top_right),\n",
        "\t\tdistance_between(top_left, bottom_left),\n",
        "\t\tdistance_between(bottom_right, bottom_left),\n",
        "\t\tdistance_between(top_left, top_right)\n",
        "\t])\n",
        "  dst = np.array([[0, 0], [side - 1, 0], [side - 1, side - 1], [0, side - 1]], dtype='float32')\n",
        "  m = cv2.getPerspectiveTransform(src, dst)\n",
        "  return cv2.warpPerspective(img, m, (int(side), int(side)))"
      ],
      "execution_count": 0,
      "outputs": []
    },
    {
      "cell_type": "code",
      "metadata": {
        "id": "8YBLt4JZeNLG",
        "colab_type": "code",
        "colab": {}
      },
      "source": [
        "def infer_grid(img):\n",
        "  squares= []\n",
        "  side= img.shape[:1]\n",
        "  side= side[0]/9\n",
        "  for i in range(9):\n",
        "    for j in range(9):\n",
        "      p1= (i*side, j*side)\n",
        "      p2= ((i+1)*side ,(j+1)*side)\n",
        "      squares.append((p1,p2))\n",
        "  return squares"
      ],
      "execution_count": 0,
      "outputs": []
    },
    {
      "cell_type": "code",
      "metadata": {
        "id": "U80X-HwehEjA",
        "colab_type": "code",
        "colab": {}
      },
      "source": [
        "def display_rects(in_img, rects, colour=255):\n",
        "\t\"\"\"Displays rectangles on the image.\"\"\"\n",
        "\timg = in_img.copy()\n",
        "\tfor rect in rects:\n",
        "\t\timg = cv2.rectangle(img, tuple(int(x) for x in rect[0]), tuple(int(x) for x in rect[1]), colour)\n",
        "\tcv2_imshow(img)\n",
        "\treturn img"
      ],
      "execution_count": 0,
      "outputs": []
    },
    {
      "cell_type": "code",
      "metadata": {
        "id": "yK3DFX2YhOHL",
        "colab_type": "code",
        "colab": {}
      },
      "source": [
        "def cut_from_rect(img, rect):\n",
        "  return img[int(rect[0][1]):int(rect[1][1]), int(rect[0][0]):int(rect[1][0])]"
      ],
      "execution_count": 0,
      "outputs": []
    },
    {
      "cell_type": "code",
      "metadata": {
        "id": "WxEGkGeJkuz1",
        "colab_type": "code",
        "colab": {}
      },
      "source": [
        "def extract_digit(img, rect, size):\n",
        "  digit = cut_from_rect(img, rect)  # Get the digit box from the whole square\n",
        "\n",
        "  h, w = digit.shape[:2]\n",
        "  margin = int(np.mean([h, w]) / 2.5)\n",
        "  _, bbox, seed = find_largest_feature(digit, [margin, margin], [w - margin, h - margin])\n",
        "  digit = cut_from_rect(digit, bbox)\n",
        "\n",
        "\t# Scale and pad the digit so that it fits a square of the digit size we're using for machine learning\n",
        "  w = bbox[1][0] - bbox[0][0]\n",
        "  h = bbox[1][1] - bbox[0][1]\n",
        "\n",
        "\t# Ignore any small bounding boxes\n",
        "  if w > 0 and h > 0 and (w * h) > 100 and len(digit) > 0:\n",
        "    return scale_and_centre(digit, size, 4)\n",
        "  else:\n",
        "    return np.zeros((size, size), np.uint8)\n",
        "\n"
      ],
      "execution_count": 0,
      "outputs": []
    },
    {
      "cell_type": "code",
      "metadata": {
        "id": "yOp4dGXzk3C6",
        "colab_type": "code",
        "colab": {}
      },
      "source": [
        "def get_digits(img, squares, size):\n",
        "  digits = []\n",
        "  img = pre_process_image(img.copy(), skip_dilate=True)\n",
        "  for square in squares:\n",
        "    digits.append(extract_digit(img, square, size))\n",
        "  return digits"
      ],
      "execution_count": 0,
      "outputs": []
    },
    {
      "cell_type": "code",
      "metadata": {
        "id": "3_yQwFmfjPbj",
        "colab_type": "code",
        "colab": {}
      },
      "source": [
        "def find_largest_feature(inp_img, scan_tl=None, scan_br=None):\n",
        "  img = inp_img.copy()  # Copy the image, leaving the original untouched\n",
        "  height, width = img.shape[:2]\n",
        "  max_area = 0\n",
        "  seed_point = (None, None)\n",
        "\n",
        "  if scan_tl is None:\n",
        "\t  scan_tl = [0, 0]\n",
        "\n",
        "  if scan_br is None:\n",
        "\t  scan_br = [width, height]\n",
        "\n",
        "  for x in range(scan_tl[0], scan_br[0]):\n",
        "\t  for y in range(scan_tl[1], scan_br[1]):\n",
        "\t\t  if img.item(y, x) == 255 and x < width and y < height:  # Note that .item() appears to take input as y, x\n",
        "\t\t\t  area = cv2.floodFill(img, None, (x, y), 64)\n",
        "\t\t\t  if area[0] > max_area:  # Gets the maximum bound area which should be the grid\n",
        "\t\t\t\t  max_area = area[0]\n",
        "\t\t\t\t  seed_point = (x, y)\n",
        "\n",
        "\t# Colour everything grey (compensates for features outside of our middle scanning range\n",
        "  for x in range(width):\n",
        "    for y in range(height):\n",
        "      if img.item(y, x) == 255 and x < width and y < height:\n",
        "        cv2.floodFill(img, None, (x, y), 64)\n",
        "\n",
        "  mask = np.zeros((height + 2, width + 2), np.uint8)  # Mask that is 2 pixels bigger than the image\n",
        "\n",
        "\t# Highlight the main feature\n",
        "  if all([p is not None for p in seed_point]):\n",
        "    cv2.floodFill(img, mask, seed_point, 255)\n",
        "\n",
        "  top, bottom, left, right = height, 0, width, 0\n",
        "\n",
        "  for x in range(width):\n",
        "    for y in range(height):\n",
        "      if img.item(y, x) == 64:  # Hide anything that isn't the main feature\n",
        "        cv2.floodFill(img, mask, (x, y), 0)\n",
        "\n",
        "\t\t\t# Find the bounding parameters\n",
        "      if img.item(y, x) == 255:\n",
        "        top = y if y < top else top\n",
        "        bottom = y if y > bottom else bottom\n",
        "        left = x if x < left else left\n",
        "        right = x if x > right else right\n",
        "\n",
        "  bbox = [[left, top], [right, bottom]]\n",
        "  return img, np.array(bbox, dtype='float32'), seed_point\n"
      ],
      "execution_count": 0,
      "outputs": []
    },
    {
      "cell_type": "code",
      "metadata": {
        "id": "QktTYPcUic60",
        "colab_type": "code",
        "colab": {}
      },
      "source": [
        "def scale_and_centre(img, size, margin=0, background=0):\n",
        "  h, w = img.shape[:2]\n",
        "\n",
        "  def centre_pad(length):\n",
        "\t  if length % 2 == 0:\n",
        "\t\t  side1 = int((size - length) / 2)\n",
        "\t\t  side2 = side1\n",
        "\t  else:\n",
        "\t\t  side1 = int((size - length) / 2)\n",
        "\t\t  side2 = side1 + 1\n",
        "\t  return side1, side2\n",
        "  def scale(r, x):\n",
        "\t  return int(r * x)\n",
        "\n",
        "  if h > w:\n",
        "\t  t_pad = int(margin / 2)\n",
        "\t  b_pad = t_pad\n",
        "\t  ratio = (size - margin) / h\n",
        "\t  w, h = scale(ratio, w), scale(ratio, h)\n",
        "\t  l_pad, r_pad = centre_pad(w)\n",
        "  else:\n",
        "\t  l_pad = int(margin / 2)\n",
        "\t  r_pad = l_pad\n",
        "\t  ratio = (size - margin) / w\n",
        "\t  w, h = scale(ratio, w), scale(ratio, h)\n",
        "\t  t_pad, b_pad = centre_pad(h)\n",
        "\n",
        "  img = cv2.resize(img, (w, h))\n",
        "  img = cv2.copyMakeBorder(img, t_pad, b_pad, l_pad, r_pad, cv2.BORDER_CONSTANT, None, background)\n",
        "  return cv2.resize(img, (size, size))\n"
      ],
      "execution_count": 0,
      "outputs": []
    },
    {
      "cell_type": "code",
      "metadata": {
        "id": "hOaNIsW9lZjV",
        "colab_type": "code",
        "colab": {}
      },
      "source": [
        "def show_digits(digits, colour=255):\n",
        "\t\"\"\"Shows list of 81 extracted digits in a grid format\"\"\"\n",
        "\trows = []\n",
        "\twith_border = [cv2.copyMakeBorder(img.copy(), 1, 1, 1, 1, cv2.BORDER_CONSTANT, None, colour) for img in digits]\n",
        "\tfor i in range(9):\n",
        "\t\trow = np.concatenate(with_border[i * 9:((i + 1) * 9)], axis=1)\n",
        "\t\trows.append(row)\n",
        "\tcv2_imshow(np.concatenate(rows))\n"
      ],
      "execution_count": 0,
      "outputs": []
    },
    {
      "cell_type": "code",
      "metadata": {
        "id": "ZUL1cMBmT_Q_",
        "colab_type": "code",
        "colab": {}
      },
      "source": [
        "def load_model():\n",
        "  kr_model=tf.keras.models.load_model('final.pt')\n",
        "  kr_model.compile(optimizer = tf.train.AdamOptimizer(),\n",
        "                loss = 'sparse_categorical_crossentropy',\n",
        "                metrics=['accuracy'])\n",
        "  return kr_model"
      ],
      "execution_count": 0,
      "outputs": []
    },
    {
      "cell_type": "code",
      "metadata": {
        "id": "MKed0BN5qyxx",
        "colab_type": "code",
        "colab": {}
      },
      "source": [
        "def findNextCellToFill(grid, i, j):\n",
        "        for x in range(i,9):\n",
        "                for y in range(j,9):\n",
        "                        if grid[x][y] == 0:\n",
        "                                return x,y\n",
        "        for x in range(0,9):\n",
        "                for y in range(0,9):\n",
        "                        if grid[x][y] == 0:\n",
        "                                return x,y\n",
        "        return -1,-1\n",
        "\n",
        "def isValid(grid, i, j, e):\n",
        "        rowOk = all([e != grid[i][x] for x in range(9)])\n",
        "        if rowOk:\n",
        "                columnOk = all([e != grid[x][j] for x in range(9)])\n",
        "                if columnOk:\n",
        "                        # finding the top left x,y co-ordinates of the section containing the i,j cell\n",
        "                        secTopX, secTopY = 3 *(i//3), 3 *(j//3) #floored quotient should be used here. \n",
        "                        for x in range(secTopX, secTopX+3):\n",
        "                                for y in range(secTopY, secTopY+3):\n",
        "                                        if grid[x][y] == e:\n",
        "                                                return False\n",
        "                        return True\n",
        "        return False\n",
        "\n",
        "def solveSudoku(grid, i=0, j=0):\n",
        "        i,j = findNextCellToFill(grid, i, j)\n",
        "        if i == -1:\n",
        "                return True\n",
        "        for e in range(1,10):\n",
        "                if isValid(grid,i,j,e):\n",
        "                        grid[i][j] = e\n",
        "                        if solveSudoku(grid, i, j):\n",
        "                                return True\n",
        "                        # Undo the current cell for backtracking\n",
        "                        grid[i][j] = 0\n",
        "        return False"
      ],
      "execution_count": 0,
      "outputs": []
    },
    {
      "cell_type": "code",
      "metadata": {
        "id": "LGTugf6uDxjr",
        "colab_type": "code",
        "colab": {}
      },
      "source": [
        "img = cv2.imread('example5.jpg', cv2.IMREAD_GRAYSCALE)\n",
        "processed = pre_process_image(img)\n",
        "corners = find_corners(processed)\n",
        "#display_points(processed,corners)\n",
        "cropped = crop_and_warp(img, corners)\n",
        "#cv2_imshow(cropped)\n",
        "squares = infer_grid(cropped)\n",
        "#display_rects(cropped, squares)\n",
        "digits = get_digits(cropped, squares, 28)\n",
        "#show_digits(digits)"
      ],
      "execution_count": 0,
      "outputs": []
    },
    {
      "cell_type": "code",
      "metadata": {
        "id": "xwVkCIFVDCZP",
        "colab_type": "code",
        "colab": {
          "base_uri": "https://localhost:8080/",
          "height": 54
        },
        "outputId": "f57887fb-f46c-45b0-b296-d52c760f4448"
      },
      "source": [
        "kr_model=load_model()"
      ],
      "execution_count": 114,
      "outputs": [
        {
          "output_type": "stream",
          "text": [
            "W0722 10:39:11.161264 139856666957696 hdf5_format.py:221] No training configuration found in save file: the model was *not* compiled. Compile it manually.\n"
          ],
          "name": "stderr"
        }
      ]
    },
    {
      "cell_type": "code",
      "metadata": {
        "id": "96Y7K_YGXy7o",
        "colab_type": "code",
        "colab": {}
      },
      "source": [
        "X_train=np.asarray(digits)\n",
        "X_train = np.reshape(X_train, (X_train.shape[0], X_train.shape[1], X_train.shape[2], 1))\n",
        "y_pred=kr_model.predict(X_train)\n",
        "pred=kr_model.predict(X_train)\n",
        "y_pred = np.argmax(pred, axis=1)\n",
        "sudoku= y_pred.reshape(9,9).T\n",
        "grid=sudoku.copy()\n",
        "flag=solveSudoku(grid)"
      ],
      "execution_count": 0,
      "outputs": []
    },
    {
      "cell_type": "code",
      "metadata": {
        "id": "2kvuRHrMHRzx",
        "colab_type": "code",
        "colab": {
          "base_uri": "https://localhost:8080/",
          "height": 170
        },
        "outputId": "af1f255b-cd33-40b1-ee79-27803573b6cf"
      },
      "source": [
        "if flag:\n",
        "  #cv2_imshow(img)\n",
        "  print(grid)\n",
        "else:\n",
        "  print(\"no solution exits!!!\")"
      ],
      "execution_count": 117,
      "outputs": [
        {
          "output_type": "stream",
          "text": [
            "[[5 8 9 7 6 2 4 3 1]\n",
            " [3 7 6 4 8 1 9 5 2]\n",
            " [4 2 1 5 3 9 7 8 6]\n",
            " [9 3 4 2 7 8 6 1 5]\n",
            " [7 1 8 6 5 3 2 9 4]\n",
            " [2 6 5 1 9 4 3 7 8]\n",
            " [6 5 3 8 2 7 1 4 9]\n",
            " [1 9 2 3 4 5 8 6 7]\n",
            " [8 4 7 9 1 6 5 2 3]]\n"
          ],
          "name": "stdout"
        }
      ]
    },
    {
      "cell_type": "code",
      "metadata": {
        "id": "bB3CtEJkOxs0",
        "colab_type": "code",
        "colab": {}
      },
      "source": [
        ""
      ],
      "execution_count": 0,
      "outputs": []
    }
  ]
}